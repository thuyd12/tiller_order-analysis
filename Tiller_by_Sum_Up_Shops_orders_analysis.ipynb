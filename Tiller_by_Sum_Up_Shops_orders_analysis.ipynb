{
  "nbformat": 4,
  "nbformat_minor": 0,
  "metadata": {
    "kernelspec": {
      "display_name": "Python 3",
      "language": "python",
      "name": "python3"
    },
    "language_info": {
      "codemirror_mode": {
        "name": "ipython",
        "version": 3
      },
      "file_extension": ".py",
      "mimetype": "text/x-python",
      "name": "python",
      "nbconvert_exporter": "python",
      "pygments_lexer": "ipython3",
      "version": "3.8.0"
    },
    "colab": {
      "provenance": [],
      "collapsed_sections": [
        "iDvjy19J_asR",
        "_-E-M6zVL2YK",
        "gWkbUsCZm-8h",
        "WwLti306e7v6",
        "Mec87130n6g7",
        "X2UXhfCAsRKl",
        "1QovQqC_v4FX",
        "dDGRcXKpL2ZK",
        "pu8FjE7zWqwy"
      ],
      "include_colab_link": true
    }
  },
  "cells": [
    {
      "cell_type": "markdown",
      "metadata": {
        "id": "view-in-github",
        "colab_type": "text"
      },
      "source": [
        "<a href=\"https://colab.research.google.com/github/thuyd12/tiller_order-analysis/blob/main/Tiller_by_Sum_Up_Shops_orders_analysis.ipynb\" target=\"_parent\"><img src=\"https://colab.research.google.com/assets/colab-badge.svg\" alt=\"Open In Colab\"/></a>"
      ]
    },
    {
      "cell_type": "markdown",
      "metadata": {
        "id": "-JzbMZMGL2W1"
      },
      "source": [
        " ![Emil](data:image/png;base64,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)"
      ]
    },
    {
      "cell_type": "markdown",
      "metadata": {
        "id": "3Io8S5AZL2W3"
      },
      "source": [
        "# Shop orders analysis"
      ]
    },
    {
      "cell_type": "markdown",
      "metadata": {
        "id": "94I936yE-2xu"
      },
      "source": [
        "a) Upload [order_data](https://drive.google.com/file/d/1dVuD1hB3UnX5xhCHFMQ5R4iBdMdJMK4a/view?usp=sharing) in Colab and load it in a DataFrame `df_order`"
      ]
    },
    {
      "cell_type": "code",
      "source": [
        "df_order = pd.read_csv(\"Tiller_order_data.csv\")"
      ],
      "metadata": {
        "colab": {
          "base_uri": "https://localhost:8080/"
        },
        "id": "CsTHaOeGxcfW",
        "outputId": "3ad1cf06-9be0-471e-e879-9758caff0193"
      },
      "execution_count": null,
      "outputs": [
        {
          "output_type": "stream",
          "name": "stderr",
          "text": [
            "/usr/local/lib/python3.7/dist-packages/IPython/core/interactiveshell.py:3326: DtypeWarning: Columns (12) have mixed types.Specify dtype option on import or set low_memory=False.\n",
            "  exec(code_obj, self.user_global_ns, self.user_ns)\n"
          ]
        }
      ]
    },
    {
      "cell_type": "markdown",
      "source": [
        "b) What does a row represent? What information can you find?"
      ],
      "metadata": {
        "id": "_Tz9C_Fo6W57"
      }
    },
    {
      "cell_type": "markdown",
      "source": [
        "A line corresponds to a command. \n",
        "One can find for example : \n",
        "- the brand name associated with this order\n",
        "- the opening and closing time of the order\n",
        "- The number of customers associated with this order\n",
        "- The amount of the order\n",
        "- the amount of the order, etc."
      ],
      "metadata": {
        "id": "jX-YxmyN6mGx"
      }
    },
    {
      "cell_type": "markdown",
      "metadata": {
        "id": "7PFtvyCYuy0P"
      },
      "source": [
        "c) What are the different statuses of an order? How many orders are there per status?"
      ]
    },
    {
      "cell_type": "code",
      "execution_count": null,
      "metadata": {
        "colab": {
          "base_uri": "https://localhost:8080/"
        },
        "id": "oaUCabqUuyVS",
        "outputId": "50ea8e36-5ca0-4224-b72e-1b131b2cf4db"
      },
      "outputs": [
        {
          "output_type": "stream",
          "name": "stdout",
          "text": [
            "['CLOSED' 'IN_PROGRESS']\n",
            "    dim_status    size\n",
            "0       CLOSED  116939\n",
            "1  IN_PROGRESS     365\n"
          ]
        }
      ],
      "source": [
        "print(df_order[\"dim_status\"].unique())\n",
        "\n",
        "print(df_order.groupby([\"dim_status\"], as_index=False).size())"
      ]
    },
    {
      "cell_type": "markdown",
      "metadata": {
        "id": "DspKznXmuDuZ"
      },
      "source": [
        "d) What is the proportion of orders with a CLOSE status?"
      ]
    },
    {
      "cell_type": "code",
      "execution_count": null,
      "metadata": {
        "colab": {
          "base_uri": "https://localhost:8080/"
        },
        "id": "nKRY5m8kuEFS",
        "outputId": "cd916446-52e6-4c37-b626-6c4e93808a9d"
      },
      "outputs": [
        {
          "output_type": "stream",
          "name": "stdout",
          "text": [
            "0.9968884266521175\n"
          ]
        }
      ],
      "source": [
        "mask_order_close = df_order[\"dim_status\"] == \"CLOSED\"\n",
        "\n",
        "print(df_order[mask_order_close].shape[0] / df_order.shape[0])"
      ]
    },
    {
      "cell_type": "markdown",
      "metadata": {
        "id": "DRcKAeUstPq9"
      },
      "source": [
        "e) How many restaurants are there? What are their ids?"
      ]
    },
    {
      "cell_type": "code",
      "execution_count": null,
      "metadata": {
        "colab": {
          "base_uri": "https://localhost:8080/"
        },
        "id": "L_An80n8s_T9",
        "outputId": "468a7ed3-4beb-4b6a-fcf7-d1305c2ceecd"
      },
      "outputs": [
        {
          "output_type": "stream",
          "name": "stdout",
          "text": [
            "[8052 8347 8283 9084 4337  360 1796 7965 6293 4542]\n",
            "10\n"
          ]
        }
      ],
      "source": [
        "stores = df_order[\"id_store\"].unique()\n",
        "\n",
        "print(stores)\n",
        "print(len(stores))"
      ]
    },
    {
      "cell_type": "markdown",
      "metadata": {
        "id": "z1AA_gEsGblP"
      },
      "source": [
        "f) Calculate the turnover per restaurant. Which restaurant has the highest turnover?"
      ]
    },
    {
      "cell_type": "code",
      "execution_count": null,
      "metadata": {
        "colab": {
          "base_uri": "https://localhost:8080/"
        },
        "id": "YmsHXRrJHAJx",
        "outputId": "01120cdc-139c-45eb-a55d-62300337c757"
      },
      "outputs": [
        {
          "output_type": "execute_result",
          "data": {
            "text/plain": [
              "id_store\n",
              "7965    1138690.95\n",
              "4337     865357.89\n",
              "9084     479019.75\n",
              "360      387089.14\n",
              "8283     369822.82\n",
              "6293     359471.00\n",
              "8052     327758.85\n",
              "1796     321099.69\n",
              "4542     243728.69\n",
              "8347         23.00\n",
              "Name: m_cached_payed, dtype: float64"
            ]
          },
          "metadata": {},
          "execution_count": 98
        }
      ],
      "source": [
        "df_order.groupby([\"id_store\"])[\"m_cached_payed\"].sum().sort_values(ascending=False)"
      ]
    },
    {
      "cell_type": "markdown",
      "metadata": {
        "id": "sLA7m7Rft12b"
      },
      "source": [
        "g) Count the number of orders per restaurant. Which restaurant had the most orders in this data? Is it the same as the one with the highest turnover?\n",
        "\n",
        "\n"
      ]
    },
    {
      "cell_type": "code",
      "execution_count": null,
      "metadata": {
        "colab": {
          "base_uri": "https://localhost:8080/"
        },
        "id": "ryZBJEV5E6jO",
        "outputId": "3ca71a22-27b3-4cc7-f427-0f1ec0734a58"
      },
      "outputs": [
        {
          "output_type": "execute_result",
          "data": {
            "text/plain": [
              "id_store\n",
              "1796    27349\n",
              "4337    20003\n",
              "4542    17641\n",
              "6293    16103\n",
              "8283    10023\n",
              "7965     9091\n",
              "9084     7804\n",
              "8052     4906\n",
              "360      4383\n",
              "8347        1\n",
              "dtype: int64"
            ]
          },
          "metadata": {},
          "execution_count": 99
        }
      ],
      "source": [
        "df_order.groupby([\"id_store\"]).size().sort_values(ascending=False)"
      ]
    },
    {
      "cell_type": "markdown",
      "metadata": {
        "id": "MciEHryJHgZT"
      },
      "source": [
        "h) Calculate the average price of an order for each restaurant. Do you think you are facing the same types of restaurants?"
      ]
    },
    {
      "cell_type": "code",
      "execution_count": null,
      "metadata": {
        "colab": {
          "base_uri": "https://localhost:8080/",
          "height": 363
        },
        "id": "xQPxmRRMHf7b",
        "outputId": "fea48d0e-7f4a-4dac-fa86-5389f00fac63"
      },
      "outputs": [
        {
          "output_type": "execute_result",
          "data": {
            "text/plain": [
              "   id_store   size         sum  avg_order_price\n",
              "5      7965   9091  1138585.95       125.243202\n",
              "0       360   4383   386934.14        88.280662\n",
              "6      8052   4906   327758.85        66.807756\n",
              "9      9084   7804   479040.75        61.384002\n",
              "2      4337  20003   865847.30        43.285872\n",
              "7      8283  10023   369822.82        36.897418\n",
              "8      8347      1       23.00        23.000000\n",
              "4      6293  16103   359718.00        22.338570\n",
              "3      4542  17641   243789.69        13.819494\n",
              "1      1796  27349   321099.69        11.740820"
            ],
            "text/html": [
              "\n",
              "  <div id=\"df-dd621021-095b-4729-a234-977bce5210c2\">\n",
              "    <div class=\"colab-df-container\">\n",
              "      <div>\n",
              "<style scoped>\n",
              "    .dataframe tbody tr th:only-of-type {\n",
              "        vertical-align: middle;\n",
              "    }\n",
              "\n",
              "    .dataframe tbody tr th {\n",
              "        vertical-align: top;\n",
              "    }\n",
              "\n",
              "    .dataframe thead th {\n",
              "        text-align: right;\n",
              "    }\n",
              "</style>\n",
              "<table border=\"1\" class=\"dataframe\">\n",
              "  <thead>\n",
              "    <tr style=\"text-align: right;\">\n",
              "      <th></th>\n",
              "      <th>id_store</th>\n",
              "      <th>size</th>\n",
              "      <th>sum</th>\n",
              "      <th>avg_order_price</th>\n",
              "    </tr>\n",
              "  </thead>\n",
              "  <tbody>\n",
              "    <tr>\n",
              "      <th>5</th>\n",
              "      <td>7965</td>\n",
              "      <td>9091</td>\n",
              "      <td>1138585.95</td>\n",
              "      <td>125.243202</td>\n",
              "    </tr>\n",
              "    <tr>\n",
              "      <th>0</th>\n",
              "      <td>360</td>\n",
              "      <td>4383</td>\n",
              "      <td>386934.14</td>\n",
              "      <td>88.280662</td>\n",
              "    </tr>\n",
              "    <tr>\n",
              "      <th>6</th>\n",
              "      <td>8052</td>\n",
              "      <td>4906</td>\n",
              "      <td>327758.85</td>\n",
              "      <td>66.807756</td>\n",
              "    </tr>\n",
              "    <tr>\n",
              "      <th>9</th>\n",
              "      <td>9084</td>\n",
              "      <td>7804</td>\n",
              "      <td>479040.75</td>\n",
              "      <td>61.384002</td>\n",
              "    </tr>\n",
              "    <tr>\n",
              "      <th>2</th>\n",
              "      <td>4337</td>\n",
              "      <td>20003</td>\n",
              "      <td>865847.30</td>\n",
              "      <td>43.285872</td>\n",
              "    </tr>\n",
              "    <tr>\n",
              "      <th>7</th>\n",
              "      <td>8283</td>\n",
              "      <td>10023</td>\n",
              "      <td>369822.82</td>\n",
              "      <td>36.897418</td>\n",
              "    </tr>\n",
              "    <tr>\n",
              "      <th>8</th>\n",
              "      <td>8347</td>\n",
              "      <td>1</td>\n",
              "      <td>23.00</td>\n",
              "      <td>23.000000</td>\n",
              "    </tr>\n",
              "    <tr>\n",
              "      <th>4</th>\n",
              "      <td>6293</td>\n",
              "      <td>16103</td>\n",
              "      <td>359718.00</td>\n",
              "      <td>22.338570</td>\n",
              "    </tr>\n",
              "    <tr>\n",
              "      <th>3</th>\n",
              "      <td>4542</td>\n",
              "      <td>17641</td>\n",
              "      <td>243789.69</td>\n",
              "      <td>13.819494</td>\n",
              "    </tr>\n",
              "    <tr>\n",
              "      <th>1</th>\n",
              "      <td>1796</td>\n",
              "      <td>27349</td>\n",
              "      <td>321099.69</td>\n",
              "      <td>11.740820</td>\n",
              "    </tr>\n",
              "  </tbody>\n",
              "</table>\n",
              "</div>\n",
              "      <button class=\"colab-df-convert\" onclick=\"convertToInteractive('df-dd621021-095b-4729-a234-977bce5210c2')\"\n",
              "              title=\"Convert this dataframe to an interactive table.\"\n",
              "              style=\"display:none;\">\n",
              "        \n",
              "  <svg xmlns=\"http://www.w3.org/2000/svg\" height=\"24px\"viewBox=\"0 0 24 24\"\n",
              "       width=\"24px\">\n",
              "    <path d=\"M0 0h24v24H0V0z\" fill=\"none\"/>\n",
              "    <path d=\"M18.56 5.44l.94 2.06.94-2.06 2.06-.94-2.06-.94-.94-2.06-.94 2.06-2.06.94zm-11 1L8.5 8.5l.94-2.06 2.06-.94-2.06-.94L8.5 2.5l-.94 2.06-2.06.94zm10 10l.94 2.06.94-2.06 2.06-.94-2.06-.94-.94-2.06-.94 2.06-2.06.94z\"/><path d=\"M17.41 7.96l-1.37-1.37c-.4-.4-.92-.59-1.43-.59-.52 0-1.04.2-1.43.59L10.3 9.45l-7.72 7.72c-.78.78-.78 2.05 0 2.83L4 21.41c.39.39.9.59 1.41.59.51 0 1.02-.2 1.41-.59l7.78-7.78 2.81-2.81c.8-.78.8-2.07 0-2.86zM5.41 20L4 18.59l7.72-7.72 1.47 1.35L5.41 20z\"/>\n",
              "  </svg>\n",
              "      </button>\n",
              "      \n",
              "  <style>\n",
              "    .colab-df-container {\n",
              "      display:flex;\n",
              "      flex-wrap:wrap;\n",
              "      gap: 12px;\n",
              "    }\n",
              "\n",
              "    .colab-df-convert {\n",
              "      background-color: #E8F0FE;\n",
              "      border: none;\n",
              "      border-radius: 50%;\n",
              "      cursor: pointer;\n",
              "      display: none;\n",
              "      fill: #1967D2;\n",
              "      height: 32px;\n",
              "      padding: 0 0 0 0;\n",
              "      width: 32px;\n",
              "    }\n",
              "\n",
              "    .colab-df-convert:hover {\n",
              "      background-color: #E2EBFA;\n",
              "      box-shadow: 0px 1px 2px rgba(60, 64, 67, 0.3), 0px 1px 3px 1px rgba(60, 64, 67, 0.15);\n",
              "      fill: #174EA6;\n",
              "    }\n",
              "\n",
              "    [theme=dark] .colab-df-convert {\n",
              "      background-color: #3B4455;\n",
              "      fill: #D2E3FC;\n",
              "    }\n",
              "\n",
              "    [theme=dark] .colab-df-convert:hover {\n",
              "      background-color: #434B5C;\n",
              "      box-shadow: 0px 1px 3px 1px rgba(0, 0, 0, 0.15);\n",
              "      filter: drop-shadow(0px 1px 2px rgba(0, 0, 0, 0.3));\n",
              "      fill: #FFFFFF;\n",
              "    }\n",
              "  </style>\n",
              "\n",
              "      <script>\n",
              "        const buttonEl =\n",
              "          document.querySelector('#df-dd621021-095b-4729-a234-977bce5210c2 button.colab-df-convert');\n",
              "        buttonEl.style.display =\n",
              "          google.colab.kernel.accessAllowed ? 'block' : 'none';\n",
              "\n",
              "        async function convertToInteractive(key) {\n",
              "          const element = document.querySelector('#df-dd621021-095b-4729-a234-977bce5210c2');\n",
              "          const dataTable =\n",
              "            await google.colab.kernel.invokeFunction('convertToInteractive',\n",
              "                                                     [key], {});\n",
              "          if (!dataTable) return;\n",
              "\n",
              "          const docLinkHtml = 'Like what you see? Visit the ' +\n",
              "            '<a target=\"_blank\" href=https://colab.research.google.com/notebooks/data_table.ipynb>data table notebook</a>'\n",
              "            + ' to learn more about interactive tables.';\n",
              "          element.innerHTML = '';\n",
              "          dataTable['output_type'] = 'display_data';\n",
              "          await google.colab.output.renderOutput(dataTable, element);\n",
              "          const docLink = document.createElement('div');\n",
              "          docLink.innerHTML = docLinkHtml;\n",
              "          element.appendChild(docLink);\n",
              "        }\n",
              "      </script>\n",
              "    </div>\n",
              "  </div>\n",
              "  "
            ]
          },
          "metadata": {},
          "execution_count": 100
        }
      ],
      "source": [
        "df_turnover = df_order.groupby([\"id_store\"])[\"m_cached_price\"].agg(['size', 'sum']).reset_index()\n",
        "df_turnover[\"avg_order_price\"] = df_turnover[\"sum\"] / df_turnover[\"size\"]\n",
        "df_turnover.sort_values(\"avg_order_price\", ascending=False)"
      ]
    },
    {
      "cell_type": "markdown",
      "metadata": {
        "id": "AO8vSsMQLFvL"
      },
      "source": [
        "i) The problem is that an order may be placed for several people. Instead, we want to know the average price spent by a single person in the restaurant.\n",
        "\n",
        "Add a column to the initial dataframe,  representing the price of the order per customer"
      ]
    },
    {
      "cell_type": "code",
      "execution_count": null,
      "metadata": {
        "colab": {
          "base_uri": "https://localhost:8080/",
          "height": 531
        },
        "id": "uuafguQgLBsb",
        "outputId": "31a1a11e-b73b-421e-8594-c74f631ca9df"
      },
      "outputs": [
        {
          "output_type": "execute_result",
          "data": {
            "text/plain": [
              "   id_order  id_store  id_table  id_waiter  id_customer  \\\n",
              "0  55538867      8052       NaN        NaN          NaN   \n",
              "1  56035309      8052       NaN        NaN          NaN   \n",
              "2  55550051      8052       NaN        NaN          NaN   \n",
              "3  57000119      8052       NaN    16199.0          NaN   \n",
              "4  55558817      8052       NaN        NaN          NaN   \n",
              "\n",
              "                            id_external  id_device              date_opened  \\\n",
              "0  0425716B-EFF4-41CA-AEA1-839104F36833    15327.0  2019-01-12 13:02:17 UTC   \n",
              "1  75E41FE2-64FF-41D3-954C-A7DE4AA887EF    15327.0  2019-01-16 19:39:09 UTC   \n",
              "2  F6051A05-C9AC-4033-BF72-BB5149B8F439    15327.0  2019-01-12 14:18:46 UTC   \n",
              "3  B8BEEC66-1C10-48A0-B4D5-035CB5EEFE62    15327.0  2019-01-24 17:49:12 UTC   \n",
              "4  17F0533C-2FF1-4FC5-A50D-12704C7B7A4B    15327.0  2019-01-12 15:25:06 UTC   \n",
              "\n",
              "               date_closed                    dim_name dim_status  dim_type  \\\n",
              "0  2019-01-12 19:58:38 UTC                     vincent     CLOSED         1   \n",
              "1  2019-01-16 22:10:50 UTC  frere et soeur avec pierre     CLOSED         1   \n",
              "2  2019-01-12 19:50:32 UTC                      rachel     CLOSED         1   \n",
              "3  2019-01-24 21:58:59 UTC                  Groupe PEL     CLOSED         1   \n",
              "4  2019-01-12 19:21:03 UTC                remi et date     CLOSED         1   \n",
              "\n",
              "  dim_comment    dim_source  m_nb_customer  m_cached_payed  m_cached_price  \\\n",
              "0         NaN   Tiller iPAD              1            45.5            45.5   \n",
              "1         NaN   Tiller iPAD              2            49.8            49.8   \n",
              "2         NaN   Tiller iPAD              1            27.4            27.4   \n",
              "3         NaN  tiller-order              3            60.0            60.0   \n",
              "4         NaN   Tiller iPAD              2            39.9            39.9   \n",
              "\n",
              "   price_per_customer  \n",
              "0               45.50  \n",
              "1               24.90  \n",
              "2               27.40  \n",
              "3               20.00  \n",
              "4               19.95  "
            ],
            "text/html": [
              "\n",
              "  <div id=\"df-9ecbe3d4-e4bc-459f-8df2-4cc95942e403\">\n",
              "    <div class=\"colab-df-container\">\n",
              "      <div>\n",
              "<style scoped>\n",
              "    .dataframe tbody tr th:only-of-type {\n",
              "        vertical-align: middle;\n",
              "    }\n",
              "\n",
              "    .dataframe tbody tr th {\n",
              "        vertical-align: top;\n",
              "    }\n",
              "\n",
              "    .dataframe thead th {\n",
              "        text-align: right;\n",
              "    }\n",
              "</style>\n",
              "<table border=\"1\" class=\"dataframe\">\n",
              "  <thead>\n",
              "    <tr style=\"text-align: right;\">\n",
              "      <th></th>\n",
              "      <th>id_order</th>\n",
              "      <th>id_store</th>\n",
              "      <th>id_table</th>\n",
              "      <th>id_waiter</th>\n",
              "      <th>id_customer</th>\n",
              "      <th>id_external</th>\n",
              "      <th>id_device</th>\n",
              "      <th>date_opened</th>\n",
              "      <th>date_closed</th>\n",
              "      <th>dim_name</th>\n",
              "      <th>dim_status</th>\n",
              "      <th>dim_type</th>\n",
              "      <th>dim_comment</th>\n",
              "      <th>dim_source</th>\n",
              "      <th>m_nb_customer</th>\n",
              "      <th>m_cached_payed</th>\n",
              "      <th>m_cached_price</th>\n",
              "      <th>price_per_customer</th>\n",
              "    </tr>\n",
              "  </thead>\n",
              "  <tbody>\n",
              "    <tr>\n",
              "      <th>0</th>\n",
              "      <td>55538867</td>\n",
              "      <td>8052</td>\n",
              "      <td>NaN</td>\n",
              "      <td>NaN</td>\n",
              "      <td>NaN</td>\n",
              "      <td>0425716B-EFF4-41CA-AEA1-839104F36833</td>\n",
              "      <td>15327.0</td>\n",
              "      <td>2019-01-12 13:02:17 UTC</td>\n",
              "      <td>2019-01-12 19:58:38 UTC</td>\n",
              "      <td>vincent</td>\n",
              "      <td>CLOSED</td>\n",
              "      <td>1</td>\n",
              "      <td>NaN</td>\n",
              "      <td>Tiller iPAD</td>\n",
              "      <td>1</td>\n",
              "      <td>45.5</td>\n",
              "      <td>45.5</td>\n",
              "      <td>45.50</td>\n",
              "    </tr>\n",
              "    <tr>\n",
              "      <th>1</th>\n",
              "      <td>56035309</td>\n",
              "      <td>8052</td>\n",
              "      <td>NaN</td>\n",
              "      <td>NaN</td>\n",
              "      <td>NaN</td>\n",
              "      <td>75E41FE2-64FF-41D3-954C-A7DE4AA887EF</td>\n",
              "      <td>15327.0</td>\n",
              "      <td>2019-01-16 19:39:09 UTC</td>\n",
              "      <td>2019-01-16 22:10:50 UTC</td>\n",
              "      <td>frere et soeur avec pierre</td>\n",
              "      <td>CLOSED</td>\n",
              "      <td>1</td>\n",
              "      <td>NaN</td>\n",
              "      <td>Tiller iPAD</td>\n",
              "      <td>2</td>\n",
              "      <td>49.8</td>\n",
              "      <td>49.8</td>\n",
              "      <td>24.90</td>\n",
              "    </tr>\n",
              "    <tr>\n",
              "      <th>2</th>\n",
              "      <td>55550051</td>\n",
              "      <td>8052</td>\n",
              "      <td>NaN</td>\n",
              "      <td>NaN</td>\n",
              "      <td>NaN</td>\n",
              "      <td>F6051A05-C9AC-4033-BF72-BB5149B8F439</td>\n",
              "      <td>15327.0</td>\n",
              "      <td>2019-01-12 14:18:46 UTC</td>\n",
              "      <td>2019-01-12 19:50:32 UTC</td>\n",
              "      <td>rachel</td>\n",
              "      <td>CLOSED</td>\n",
              "      <td>1</td>\n",
              "      <td>NaN</td>\n",
              "      <td>Tiller iPAD</td>\n",
              "      <td>1</td>\n",
              "      <td>27.4</td>\n",
              "      <td>27.4</td>\n",
              "      <td>27.40</td>\n",
              "    </tr>\n",
              "    <tr>\n",
              "      <th>3</th>\n",
              "      <td>57000119</td>\n",
              "      <td>8052</td>\n",
              "      <td>NaN</td>\n",
              "      <td>16199.0</td>\n",
              "      <td>NaN</td>\n",
              "      <td>B8BEEC66-1C10-48A0-B4D5-035CB5EEFE62</td>\n",
              "      <td>15327.0</td>\n",
              "      <td>2019-01-24 17:49:12 UTC</td>\n",
              "      <td>2019-01-24 21:58:59 UTC</td>\n",
              "      <td>Groupe PEL</td>\n",
              "      <td>CLOSED</td>\n",
              "      <td>1</td>\n",
              "      <td>NaN</td>\n",
              "      <td>tiller-order</td>\n",
              "      <td>3</td>\n",
              "      <td>60.0</td>\n",
              "      <td>60.0</td>\n",
              "      <td>20.00</td>\n",
              "    </tr>\n",
              "    <tr>\n",
              "      <th>4</th>\n",
              "      <td>55558817</td>\n",
              "      <td>8052</td>\n",
              "      <td>NaN</td>\n",
              "      <td>NaN</td>\n",
              "      <td>NaN</td>\n",
              "      <td>17F0533C-2FF1-4FC5-A50D-12704C7B7A4B</td>\n",
              "      <td>15327.0</td>\n",
              "      <td>2019-01-12 15:25:06 UTC</td>\n",
              "      <td>2019-01-12 19:21:03 UTC</td>\n",
              "      <td>remi et date</td>\n",
              "      <td>CLOSED</td>\n",
              "      <td>1</td>\n",
              "      <td>NaN</td>\n",
              "      <td>Tiller iPAD</td>\n",
              "      <td>2</td>\n",
              "      <td>39.9</td>\n",
              "      <td>39.9</td>\n",
              "      <td>19.95</td>\n",
              "    </tr>\n",
              "  </tbody>\n",
              "</table>\n",
              "</div>\n",
              "      <button class=\"colab-df-convert\" onclick=\"convertToInteractive('df-9ecbe3d4-e4bc-459f-8df2-4cc95942e403')\"\n",
              "              title=\"Convert this dataframe to an interactive table.\"\n",
              "              style=\"display:none;\">\n",
              "        \n",
              "  <svg xmlns=\"http://www.w3.org/2000/svg\" height=\"24px\"viewBox=\"0 0 24 24\"\n",
              "       width=\"24px\">\n",
              "    <path d=\"M0 0h24v24H0V0z\" fill=\"none\"/>\n",
              "    <path d=\"M18.56 5.44l.94 2.06.94-2.06 2.06-.94-2.06-.94-.94-2.06-.94 2.06-2.06.94zm-11 1L8.5 8.5l.94-2.06 2.06-.94-2.06-.94L8.5 2.5l-.94 2.06-2.06.94zm10 10l.94 2.06.94-2.06 2.06-.94-2.06-.94-.94-2.06-.94 2.06-2.06.94z\"/><path d=\"M17.41 7.96l-1.37-1.37c-.4-.4-.92-.59-1.43-.59-.52 0-1.04.2-1.43.59L10.3 9.45l-7.72 7.72c-.78.78-.78 2.05 0 2.83L4 21.41c.39.39.9.59 1.41.59.51 0 1.02-.2 1.41-.59l7.78-7.78 2.81-2.81c.8-.78.8-2.07 0-2.86zM5.41 20L4 18.59l7.72-7.72 1.47 1.35L5.41 20z\"/>\n",
              "  </svg>\n",
              "      </button>\n",
              "      \n",
              "  <style>\n",
              "    .colab-df-container {\n",
              "      display:flex;\n",
              "      flex-wrap:wrap;\n",
              "      gap: 12px;\n",
              "    }\n",
              "\n",
              "    .colab-df-convert {\n",
              "      background-color: #E8F0FE;\n",
              "      border: none;\n",
              "      border-radius: 50%;\n",
              "      cursor: pointer;\n",
              "      display: none;\n",
              "      fill: #1967D2;\n",
              "      height: 32px;\n",
              "      padding: 0 0 0 0;\n",
              "      width: 32px;\n",
              "    }\n",
              "\n",
              "    .colab-df-convert:hover {\n",
              "      background-color: #E2EBFA;\n",
              "      box-shadow: 0px 1px 2px rgba(60, 64, 67, 0.3), 0px 1px 3px 1px rgba(60, 64, 67, 0.15);\n",
              "      fill: #174EA6;\n",
              "    }\n",
              "\n",
              "    [theme=dark] .colab-df-convert {\n",
              "      background-color: #3B4455;\n",
              "      fill: #D2E3FC;\n",
              "    }\n",
              "\n",
              "    [theme=dark] .colab-df-convert:hover {\n",
              "      background-color: #434B5C;\n",
              "      box-shadow: 0px 1px 3px 1px rgba(0, 0, 0, 0.15);\n",
              "      filter: drop-shadow(0px 1px 2px rgba(0, 0, 0, 0.3));\n",
              "      fill: #FFFFFF;\n",
              "    }\n",
              "  </style>\n",
              "\n",
              "      <script>\n",
              "        const buttonEl =\n",
              "          document.querySelector('#df-9ecbe3d4-e4bc-459f-8df2-4cc95942e403 button.colab-df-convert');\n",
              "        buttonEl.style.display =\n",
              "          google.colab.kernel.accessAllowed ? 'block' : 'none';\n",
              "\n",
              "        async function convertToInteractive(key) {\n",
              "          const element = document.querySelector('#df-9ecbe3d4-e4bc-459f-8df2-4cc95942e403');\n",
              "          const dataTable =\n",
              "            await google.colab.kernel.invokeFunction('convertToInteractive',\n",
              "                                                     [key], {});\n",
              "          if (!dataTable) return;\n",
              "\n",
              "          const docLinkHtml = 'Like what you see? Visit the ' +\n",
              "            '<a target=\"_blank\" href=https://colab.research.google.com/notebooks/data_table.ipynb>data table notebook</a>'\n",
              "            + ' to learn more about interactive tables.';\n",
              "          element.innerHTML = '';\n",
              "          dataTable['output_type'] = 'display_data';\n",
              "          await google.colab.output.renderOutput(dataTable, element);\n",
              "          const docLink = document.createElement('div');\n",
              "          docLink.innerHTML = docLinkHtml;\n",
              "          element.appendChild(docLink);\n",
              "        }\n",
              "      </script>\n",
              "    </div>\n",
              "  </div>\n",
              "  "
            ]
          },
          "metadata": {},
          "execution_count": 101
        }
      ],
      "source": [
        "df_order[\"price_per_customer\"] = df_order[\"m_cached_payed\"] / df_order[\"m_nb_customer\"]\n",
        "df_order.head()"
      ]
    },
    {
      "cell_type": "markdown",
      "metadata": {
        "id": "qelSfFgsNBmB"
      },
      "source": [
        "j) Using the previous column, calculate the average price spent by each person in each of the restaurants."
      ]
    },
    {
      "cell_type": "code",
      "execution_count": null,
      "metadata": {
        "colab": {
          "base_uri": "https://localhost:8080/"
        },
        "id": "FDmNUDEANfKr",
        "outputId": "010f82d9-5a9d-437d-d20d-a69cebb88897"
      },
      "outputs": [
        {
          "output_type": "execute_result",
          "data": {
            "text/plain": [
              "id_store\n",
              "360           NaN\n",
              "1796          NaN\n",
              "4337          NaN\n",
              "4542    13.816036\n",
              "6293          NaN\n",
              "7965          NaN\n",
              "8052    16.698658\n",
              "8283    36.897418\n",
              "8347    11.500000\n",
              "9084          NaN\n",
              "Name: price_per_customer, dtype: float64"
            ]
          },
          "metadata": {},
          "execution_count": 102
        }
      ],
      "source": [
        "df_order.groupby([\"id_store\"])[\"price_per_customer\"].mean()"
      ]
    },
    {
      "cell_type": "markdown",
      "metadata": {
        "id": "BMspTKGpPgB6"
      },
      "source": [
        "k) It seems that there are data problems because for some restaurants the average price is lower than for others.\n",
        "\n",
        "Do you have any idea why?\n",
        "\n",
        "Fill the 0 values in the m_nb_customer column with 1 and then delete the rows where the m_cached_price column is 0"
      ]
    },
    {
      "cell_type": "code",
      "execution_count": null,
      "metadata": {
        "id": "0Abq1T50PQjQ"
      },
      "outputs": [],
      "source": [
        "df_order.loc[df_order.m_nb_customer == 0, \"m_nb_customer\"] = 1\n",
        "df_order = df_order[df_order[\"m_cached_payed\"] > 0]\n"
      ]
    },
    {
      "cell_type": "markdown",
      "metadata": {
        "id": "qYKGt6GlRQ_m"
      },
      "source": [
        "l) Recalculate the price_per_customer column and the average price spent by each person in each restaurant."
      ]
    },
    {
      "cell_type": "code",
      "execution_count": null,
      "metadata": {
        "colab": {
          "base_uri": "https://localhost:8080/"
        },
        "id": "oLQY0R__OhkA",
        "outputId": "7e5101b8-71b3-43e9-e10e-09a1cae83f6c"
      },
      "outputs": [
        {
          "output_type": "execute_result",
          "data": {
            "text/plain": [
              "id_store\n",
              "360      32.081429\n",
              "1796     11.832542\n",
              "4337     43.353690\n",
              "4542     13.819953\n",
              "6293     16.806272\n",
              "7965    102.439694\n",
              "8052     16.722518\n",
              "8283     36.901100\n",
              "8347     11.500000\n",
              "9084     30.571901\n",
              "Name: price_per_customer, dtype: float64"
            ]
          },
          "metadata": {},
          "execution_count": 104
        }
      ],
      "source": [
        "df_order[\"price_per_customer\"] = df_order[\"m_cached_payed\"] / df_order[\"m_nb_customer\"]\n",
        "\n",
        "df_order.groupby([\"id_store\"])[\"price_per_customer\"].mean()"
      ]
    },
    {
      "cell_type": "markdown",
      "metadata": {
        "id": "rPpEDlRQR0dP"
      },
      "source": [
        "### Adding info"
      ]
    },
    {
      "cell_type": "markdown",
      "metadata": {
        "id": "gtgNDxu-Sk04"
      },
      "source": [
        "Restaurant 7965 has a higher price per person than the rest. Let's look at the time spent at the table to see if it can match a fancy restaurant."
      ]
    },
    {
      "cell_type": "markdown",
      "metadata": {
        "id": "0XiLTXG0S1zt"
      },
      "source": [
        "m) Convert the date_opened and date_closed columns to datetime format"
      ]
    },
    {
      "cell_type": "code",
      "execution_count": null,
      "metadata": {
        "id": "vr_lHtn2SzXW"
      },
      "outputs": [],
      "source": [
        "df_order.date_closed = pd.to_datetime(df_order.date_closed)\n",
        "df_order.date_opened = pd.to_datetime(df_order.date_opened)"
      ]
    },
    {
      "cell_type": "markdown",
      "metadata": {
        "id": "n9ZCQJscq-xI"
      },
      "source": [
        "n) Run the code below to calculate the time between the opening and closing date of an order in minutes."
      ]
    },
    {
      "cell_type": "code",
      "execution_count": null,
      "metadata": {
        "ExecuteTime": {
          "end_time": "2021-12-05T17:34:35.565507Z",
          "start_time": "2021-12-05T17:34:35.558317Z"
        },
        "id": "HUNn5MUnq-xI"
      },
      "outputs": [],
      "source": [
        "df_order[\"order_duration\"] = (df_order.date_closed - df_order.date_opened).dt.total_seconds() / 60\n"
      ]
    },
    {
      "cell_type": "markdown",
      "metadata": {
        "id": "J7rOdfqHUa1W"
      },
      "source": [
        "o) Calculate the average time at table for each restaurant."
      ]
    },
    {
      "cell_type": "code",
      "execution_count": null,
      "metadata": {
        "ExecuteTime": {
          "end_time": "2021-12-05T17:35:08.547003Z",
          "start_time": "2021-12-05T17:35:08.529944Z"
        },
        "colab": {
          "base_uri": "https://localhost:8080/"
        },
        "id": "cCj4sDxyq-xJ",
        "outputId": "caa43b76-9783-42c5-d1b2-6e8f05f4f25c"
      },
      "outputs": [
        {
          "output_type": "execute_result",
          "data": {
            "text/plain": [
              "id_store\n",
              "360      96.262090\n",
              "1796      3.399033\n",
              "4337      6.251355\n",
              "4542      1.893868\n",
              "6293     29.594241\n",
              "7965     53.715114\n",
              "8052    164.739022\n",
              "8283      2.005228\n",
              "8347      3.900000\n",
              "9084    103.025325\n",
              "Name: order_duration, dtype: float64"
            ]
          },
          "metadata": {},
          "execution_count": 107
        }
      ],
      "source": [
        "df_order.groupby([\"id_store\"])[\"order_duration\"].mean()"
      ]
    },
    {
      "cell_type": "markdown",
      "metadata": {
        "id": "82pz9YvrU1Rj"
      },
      "source": [
        "Some restaurants have very short average order times. It seems that there are fast food restaurants among them."
      ]
    },
    {
      "cell_type": "markdown",
      "metadata": {
        "id": "vVyGwdcmWfgA"
      },
      "source": [
        "### Joins operations"
      ]
    },
    {
      "cell_type": "markdown",
      "metadata": {
        "ExecuteTime": {
          "end_time": "2021-12-05T16:57:15.668667Z",
          "start_time": "2021-12-05T16:57:15.666267Z"
        },
        "id": "6kN9eSVgq-xG"
      },
      "source": [
        "p) Download data [order_line](https://drive.google.com/file/d/1KSDFGLu2QAAR2C5SUlM5mfhINHU-LIuJ/view?usp=sharing) and [store_data](https://drive.google.com/file/d/1W032PaySL7gouyX3bEKgndtm6qVta7Qp/view?usp=sharing) and upload them in two DataFrame `df_line` and `df_store`."
      ]
    },
    {
      "cell_type": "code",
      "execution_count": null,
      "metadata": {
        "ExecuteTime": {
          "end_time": "2021-12-05T16:57:01.438479Z",
          "start_time": "2021-12-05T16:57:00.204091Z"
        },
        "id": "-LeTQt0lq-xG"
      },
      "outputs": [],
      "source": [
        "df_line = pd.read_csv(\"Tiller_order_line.csv\")\n",
        "df_store = pd.read_csv(\"Tiller_store_data.csv\")"
      ]
    },
    {
      "cell_type": "markdown",
      "metadata": {
        "id": "1iQwsa6hq-xG"
      },
      "source": [
        "q) What new information do you have access to through this data?"
      ]
    },
    {
      "cell_type": "code",
      "execution_count": null,
      "metadata": {
        "ExecuteTime": {
          "end_time": "2021-12-05T16:57:57.301518Z",
          "start_time": "2021-12-05T16:57:57.285313Z"
        },
        "colab": {
          "base_uri": "https://localhost:8080/",
          "height": 426
        },
        "id": "BQb_6lpBq-xG",
        "outputId": "2ee865c9-7f6e-42f9-d304-d7ac6fd2f14a"
      },
      "outputs": [
        {
          "output_type": "execute_result",
          "data": {
            "text/plain": [
              "   id_order_line     id_order             date_opended  \\\n",
              "0      626609716  139058632.0  2020-08-25 17:27:14 UTC   \n",
              "1      403167240   94770355.0  2019-09-27 07:47:14 UTC   \n",
              "2      578564178  127794604.0  2020-06-12 11:07:09 UTC   \n",
              "3      329942564   77841193.0  2019-06-17 13:13:30 UTC   \n",
              "4      348375251   82283609.0  2019-07-12 20:14:51 UTC   \n",
              "\n",
              "              date_created  m_quantity  m_unit_price  m_unit_price_exc_vat  \\\n",
              "0  2020-08-25 17:27:25 UTC         1.0         15.00             12.500000   \n",
              "1  2019-09-27 07:47:18 UTC         1.0         25.90             21.583333   \n",
              "2  2020-06-12 11:07:25 UTC         1.0          4.20              3.818182   \n",
              "3  2019-06-17 13:13:43 UTC         1.0          2.20              2.085308   \n",
              "4  2019-07-12 20:15:38 UTC         1.0         -5.16             -5.160000   \n",
              "\n",
              "   m_total_price_inc_vat  m_total_price_exc_vat  m_tax_percent  \\\n",
              "0                  15.00              12.500000          0.200   \n",
              "1                  25.90              21.583333          0.200   \n",
              "2                   4.20               3.818182          0.100   \n",
              "3                   2.20               2.085308          0.055   \n",
              "4                  -5.16              -5.160000          0.000   \n",
              "\n",
              "   m_discount_amount  dim_type          dim_category  \\\n",
              "0                0.0   PRODUCT           VINS ROUGES   \n",
              "1                0.0   PRODUCT  LIQUIDES 50ML AUTRES   \n",
              "2                0.0   PRODUCT              Déjeuner   \n",
              "3                0.0   PRODUCT              BOISSONS   \n",
              "4                0.0  DISCOUNT               VARIOUS   \n",
              "\n",
              "                               dim_name dim_status  m_nb_payed  \\\n",
              "0  TWIST AGAIN 2018 VDF - YOANN ROMAGNE       DONE         0.0   \n",
              "1                            MOMMY CAKE       DONE         0.0   \n",
              "2                      FORMULE JUS 30CL       DONE         0.0   \n",
              "3                 EVIAN - BADOIT - COCA       DONE         0.0   \n",
              "4                              DISCOUNT       DONE         0.0   \n",
              "\n",
              "  dim_feature_type dim_unit_measure dim_unit_measure_display  \n",
              "0              NaN             UNIT                     UNIT  \n",
              "1              NaN             UNIT                     UNIT  \n",
              "2              NaN             UNIT                     UNIT  \n",
              "3              NaN             UNIT                     UNIT  \n",
              "4              NaN              NaN                      NaN  "
            ],
            "text/html": [
              "\n",
              "  <div id=\"df-d5d48bb4-55a6-4d8b-b2bb-425dd5a098a1\">\n",
              "    <div class=\"colab-df-container\">\n",
              "      <div>\n",
              "<style scoped>\n",
              "    .dataframe tbody tr th:only-of-type {\n",
              "        vertical-align: middle;\n",
              "    }\n",
              "\n",
              "    .dataframe tbody tr th {\n",
              "        vertical-align: top;\n",
              "    }\n",
              "\n",
              "    .dataframe thead th {\n",
              "        text-align: right;\n",
              "    }\n",
              "</style>\n",
              "<table border=\"1\" class=\"dataframe\">\n",
              "  <thead>\n",
              "    <tr style=\"text-align: right;\">\n",
              "      <th></th>\n",
              "      <th>id_order_line</th>\n",
              "      <th>id_order</th>\n",
              "      <th>date_opended</th>\n",
              "      <th>date_created</th>\n",
              "      <th>m_quantity</th>\n",
              "      <th>m_unit_price</th>\n",
              "      <th>m_unit_price_exc_vat</th>\n",
              "      <th>m_total_price_inc_vat</th>\n",
              "      <th>m_total_price_exc_vat</th>\n",
              "      <th>m_tax_percent</th>\n",
              "      <th>m_discount_amount</th>\n",
              "      <th>dim_type</th>\n",
              "      <th>dim_category</th>\n",
              "      <th>dim_name</th>\n",
              "      <th>dim_status</th>\n",
              "      <th>m_nb_payed</th>\n",
              "      <th>dim_feature_type</th>\n",
              "      <th>dim_unit_measure</th>\n",
              "      <th>dim_unit_measure_display</th>\n",
              "    </tr>\n",
              "  </thead>\n",
              "  <tbody>\n",
              "    <tr>\n",
              "      <th>0</th>\n",
              "      <td>626609716</td>\n",
              "      <td>139058632.0</td>\n",
              "      <td>2020-08-25 17:27:14 UTC</td>\n",
              "      <td>2020-08-25 17:27:25 UTC</td>\n",
              "      <td>1.0</td>\n",
              "      <td>15.00</td>\n",
              "      <td>12.500000</td>\n",
              "      <td>15.00</td>\n",
              "      <td>12.500000</td>\n",
              "      <td>0.200</td>\n",
              "      <td>0.0</td>\n",
              "      <td>PRODUCT</td>\n",
              "      <td>VINS ROUGES</td>\n",
              "      <td>TWIST AGAIN 2018 VDF - YOANN ROMAGNE</td>\n",
              "      <td>DONE</td>\n",
              "      <td>0.0</td>\n",
              "      <td>NaN</td>\n",
              "      <td>UNIT</td>\n",
              "      <td>UNIT</td>\n",
              "    </tr>\n",
              "    <tr>\n",
              "      <th>1</th>\n",
              "      <td>403167240</td>\n",
              "      <td>94770355.0</td>\n",
              "      <td>2019-09-27 07:47:14 UTC</td>\n",
              "      <td>2019-09-27 07:47:18 UTC</td>\n",
              "      <td>1.0</td>\n",
              "      <td>25.90</td>\n",
              "      <td>21.583333</td>\n",
              "      <td>25.90</td>\n",
              "      <td>21.583333</td>\n",
              "      <td>0.200</td>\n",
              "      <td>0.0</td>\n",
              "      <td>PRODUCT</td>\n",
              "      <td>LIQUIDES 50ML AUTRES</td>\n",
              "      <td>MOMMY CAKE</td>\n",
              "      <td>DONE</td>\n",
              "      <td>0.0</td>\n",
              "      <td>NaN</td>\n",
              "      <td>UNIT</td>\n",
              "      <td>UNIT</td>\n",
              "    </tr>\n",
              "    <tr>\n",
              "      <th>2</th>\n",
              "      <td>578564178</td>\n",
              "      <td>127794604.0</td>\n",
              "      <td>2020-06-12 11:07:09 UTC</td>\n",
              "      <td>2020-06-12 11:07:25 UTC</td>\n",
              "      <td>1.0</td>\n",
              "      <td>4.20</td>\n",
              "      <td>3.818182</td>\n",
              "      <td>4.20</td>\n",
              "      <td>3.818182</td>\n",
              "      <td>0.100</td>\n",
              "      <td>0.0</td>\n",
              "      <td>PRODUCT</td>\n",
              "      <td>Déjeuner</td>\n",
              "      <td>FORMULE JUS 30CL</td>\n",
              "      <td>DONE</td>\n",
              "      <td>0.0</td>\n",
              "      <td>NaN</td>\n",
              "      <td>UNIT</td>\n",
              "      <td>UNIT</td>\n",
              "    </tr>\n",
              "    <tr>\n",
              "      <th>3</th>\n",
              "      <td>329942564</td>\n",
              "      <td>77841193.0</td>\n",
              "      <td>2019-06-17 13:13:30 UTC</td>\n",
              "      <td>2019-06-17 13:13:43 UTC</td>\n",
              "      <td>1.0</td>\n",
              "      <td>2.20</td>\n",
              "      <td>2.085308</td>\n",
              "      <td>2.20</td>\n",
              "      <td>2.085308</td>\n",
              "      <td>0.055</td>\n",
              "      <td>0.0</td>\n",
              "      <td>PRODUCT</td>\n",
              "      <td>BOISSONS</td>\n",
              "      <td>EVIAN - BADOIT - COCA</td>\n",
              "      <td>DONE</td>\n",
              "      <td>0.0</td>\n",
              "      <td>NaN</td>\n",
              "      <td>UNIT</td>\n",
              "      <td>UNIT</td>\n",
              "    </tr>\n",
              "    <tr>\n",
              "      <th>4</th>\n",
              "      <td>348375251</td>\n",
              "      <td>82283609.0</td>\n",
              "      <td>2019-07-12 20:14:51 UTC</td>\n",
              "      <td>2019-07-12 20:15:38 UTC</td>\n",
              "      <td>1.0</td>\n",
              "      <td>-5.16</td>\n",
              "      <td>-5.160000</td>\n",
              "      <td>-5.16</td>\n",
              "      <td>-5.160000</td>\n",
              "      <td>0.000</td>\n",
              "      <td>0.0</td>\n",
              "      <td>DISCOUNT</td>\n",
              "      <td>VARIOUS</td>\n",
              "      <td>DISCOUNT</td>\n",
              "      <td>DONE</td>\n",
              "      <td>0.0</td>\n",
              "      <td>NaN</td>\n",
              "      <td>NaN</td>\n",
              "      <td>NaN</td>\n",
              "    </tr>\n",
              "  </tbody>\n",
              "</table>\n",
              "</div>\n",
              "      <button class=\"colab-df-convert\" onclick=\"convertToInteractive('df-d5d48bb4-55a6-4d8b-b2bb-425dd5a098a1')\"\n",
              "              title=\"Convert this dataframe to an interactive table.\"\n",
              "              style=\"display:none;\">\n",
              "        \n",
              "  <svg xmlns=\"http://www.w3.org/2000/svg\" height=\"24px\"viewBox=\"0 0 24 24\"\n",
              "       width=\"24px\">\n",
              "    <path d=\"M0 0h24v24H0V0z\" fill=\"none\"/>\n",
              "    <path d=\"M18.56 5.44l.94 2.06.94-2.06 2.06-.94-2.06-.94-.94-2.06-.94 2.06-2.06.94zm-11 1L8.5 8.5l.94-2.06 2.06-.94-2.06-.94L8.5 2.5l-.94 2.06-2.06.94zm10 10l.94 2.06.94-2.06 2.06-.94-2.06-.94-.94-2.06-.94 2.06-2.06.94z\"/><path d=\"M17.41 7.96l-1.37-1.37c-.4-.4-.92-.59-1.43-.59-.52 0-1.04.2-1.43.59L10.3 9.45l-7.72 7.72c-.78.78-.78 2.05 0 2.83L4 21.41c.39.39.9.59 1.41.59.51 0 1.02-.2 1.41-.59l7.78-7.78 2.81-2.81c.8-.78.8-2.07 0-2.86zM5.41 20L4 18.59l7.72-7.72 1.47 1.35L5.41 20z\"/>\n",
              "  </svg>\n",
              "      </button>\n",
              "      \n",
              "  <style>\n",
              "    .colab-df-container {\n",
              "      display:flex;\n",
              "      flex-wrap:wrap;\n",
              "      gap: 12px;\n",
              "    }\n",
              "\n",
              "    .colab-df-convert {\n",
              "      background-color: #E8F0FE;\n",
              "      border: none;\n",
              "      border-radius: 50%;\n",
              "      cursor: pointer;\n",
              "      display: none;\n",
              "      fill: #1967D2;\n",
              "      height: 32px;\n",
              "      padding: 0 0 0 0;\n",
              "      width: 32px;\n",
              "    }\n",
              "\n",
              "    .colab-df-convert:hover {\n",
              "      background-color: #E2EBFA;\n",
              "      box-shadow: 0px 1px 2px rgba(60, 64, 67, 0.3), 0px 1px 3px 1px rgba(60, 64, 67, 0.15);\n",
              "      fill: #174EA6;\n",
              "    }\n",
              "\n",
              "    [theme=dark] .colab-df-convert {\n",
              "      background-color: #3B4455;\n",
              "      fill: #D2E3FC;\n",
              "    }\n",
              "\n",
              "    [theme=dark] .colab-df-convert:hover {\n",
              "      background-color: #434B5C;\n",
              "      box-shadow: 0px 1px 3px 1px rgba(0, 0, 0, 0.15);\n",
              "      filter: drop-shadow(0px 1px 2px rgba(0, 0, 0, 0.3));\n",
              "      fill: #FFFFFF;\n",
              "    }\n",
              "  </style>\n",
              "\n",
              "      <script>\n",
              "        const buttonEl =\n",
              "          document.querySelector('#df-d5d48bb4-55a6-4d8b-b2bb-425dd5a098a1 button.colab-df-convert');\n",
              "        buttonEl.style.display =\n",
              "          google.colab.kernel.accessAllowed ? 'block' : 'none';\n",
              "\n",
              "        async function convertToInteractive(key) {\n",
              "          const element = document.querySelector('#df-d5d48bb4-55a6-4d8b-b2bb-425dd5a098a1');\n",
              "          const dataTable =\n",
              "            await google.colab.kernel.invokeFunction('convertToInteractive',\n",
              "                                                     [key], {});\n",
              "          if (!dataTable) return;\n",
              "\n",
              "          const docLinkHtml = 'Like what you see? Visit the ' +\n",
              "            '<a target=\"_blank\" href=https://colab.research.google.com/notebooks/data_table.ipynb>data table notebook</a>'\n",
              "            + ' to learn more about interactive tables.';\n",
              "          element.innerHTML = '';\n",
              "          dataTable['output_type'] = 'display_data';\n",
              "          await google.colab.output.renderOutput(dataTable, element);\n",
              "          const docLink = document.createElement('div');\n",
              "          docLink.innerHTML = docLinkHtml;\n",
              "          element.appendChild(docLink);\n",
              "        }\n",
              "      </script>\n",
              "    </div>\n",
              "  </div>\n",
              "  "
            ]
          },
          "metadata": {},
          "execution_count": 109
        }
      ],
      "source": [
        "df_line.head()"
      ]
    },
    {
      "cell_type": "code",
      "execution_count": null,
      "metadata": {
        "ExecuteTime": {
          "end_time": "2021-12-05T16:58:04.620061Z",
          "start_time": "2021-12-05T16:58:04.611443Z"
        },
        "id": "gq4y3luXq-xH",
        "outputId": "8c00bfe0-920c-4ccb-c013-ec4d2f18a7eb",
        "colab": {
          "base_uri": "https://localhost:8080/",
          "height": 206
        }
      },
      "outputs": [
        {
          "output_type": "execute_result",
          "data": {
            "text/plain": [
              "   id_store               date_created dim_zipcode dim_country dim_currency\n",
              "0      2576  2016-07-12 16:15:31+00:00       34120          FR          EUR\n",
              "1      2538  2016-07-07 16:35:44+00:00       47800          FR          EUR\n",
              "2      2468  2016-06-30 12:44:25+00:00       06470          FR          EUR\n",
              "3      2375  2016-06-21 12:52:36+00:00       76000          FR          EUR\n",
              "4      2328  2016-06-16 13:59:52+00:00       75018          FR          EUR"
            ],
            "text/html": [
              "\n",
              "  <div id=\"df-7f5ee9e7-282f-48c6-86f3-b0b179548ebf\">\n",
              "    <div class=\"colab-df-container\">\n",
              "      <div>\n",
              "<style scoped>\n",
              "    .dataframe tbody tr th:only-of-type {\n",
              "        vertical-align: middle;\n",
              "    }\n",
              "\n",
              "    .dataframe tbody tr th {\n",
              "        vertical-align: top;\n",
              "    }\n",
              "\n",
              "    .dataframe thead th {\n",
              "        text-align: right;\n",
              "    }\n",
              "</style>\n",
              "<table border=\"1\" class=\"dataframe\">\n",
              "  <thead>\n",
              "    <tr style=\"text-align: right;\">\n",
              "      <th></th>\n",
              "      <th>id_store</th>\n",
              "      <th>date_created</th>\n",
              "      <th>dim_zipcode</th>\n",
              "      <th>dim_country</th>\n",
              "      <th>dim_currency</th>\n",
              "    </tr>\n",
              "  </thead>\n",
              "  <tbody>\n",
              "    <tr>\n",
              "      <th>0</th>\n",
              "      <td>2576</td>\n",
              "      <td>2016-07-12 16:15:31+00:00</td>\n",
              "      <td>34120</td>\n",
              "      <td>FR</td>\n",
              "      <td>EUR</td>\n",
              "    </tr>\n",
              "    <tr>\n",
              "      <th>1</th>\n",
              "      <td>2538</td>\n",
              "      <td>2016-07-07 16:35:44+00:00</td>\n",
              "      <td>47800</td>\n",
              "      <td>FR</td>\n",
              "      <td>EUR</td>\n",
              "    </tr>\n",
              "    <tr>\n",
              "      <th>2</th>\n",
              "      <td>2468</td>\n",
              "      <td>2016-06-30 12:44:25+00:00</td>\n",
              "      <td>06470</td>\n",
              "      <td>FR</td>\n",
              "      <td>EUR</td>\n",
              "    </tr>\n",
              "    <tr>\n",
              "      <th>3</th>\n",
              "      <td>2375</td>\n",
              "      <td>2016-06-21 12:52:36+00:00</td>\n",
              "      <td>76000</td>\n",
              "      <td>FR</td>\n",
              "      <td>EUR</td>\n",
              "    </tr>\n",
              "    <tr>\n",
              "      <th>4</th>\n",
              "      <td>2328</td>\n",
              "      <td>2016-06-16 13:59:52+00:00</td>\n",
              "      <td>75018</td>\n",
              "      <td>FR</td>\n",
              "      <td>EUR</td>\n",
              "    </tr>\n",
              "  </tbody>\n",
              "</table>\n",
              "</div>\n",
              "      <button class=\"colab-df-convert\" onclick=\"convertToInteractive('df-7f5ee9e7-282f-48c6-86f3-b0b179548ebf')\"\n",
              "              title=\"Convert this dataframe to an interactive table.\"\n",
              "              style=\"display:none;\">\n",
              "        \n",
              "  <svg xmlns=\"http://www.w3.org/2000/svg\" height=\"24px\"viewBox=\"0 0 24 24\"\n",
              "       width=\"24px\">\n",
              "    <path d=\"M0 0h24v24H0V0z\" fill=\"none\"/>\n",
              "    <path d=\"M18.56 5.44l.94 2.06.94-2.06 2.06-.94-2.06-.94-.94-2.06-.94 2.06-2.06.94zm-11 1L8.5 8.5l.94-2.06 2.06-.94-2.06-.94L8.5 2.5l-.94 2.06-2.06.94zm10 10l.94 2.06.94-2.06 2.06-.94-2.06-.94-.94-2.06-.94 2.06-2.06.94z\"/><path d=\"M17.41 7.96l-1.37-1.37c-.4-.4-.92-.59-1.43-.59-.52 0-1.04.2-1.43.59L10.3 9.45l-7.72 7.72c-.78.78-.78 2.05 0 2.83L4 21.41c.39.39.9.59 1.41.59.51 0 1.02-.2 1.41-.59l7.78-7.78 2.81-2.81c.8-.78.8-2.07 0-2.86zM5.41 20L4 18.59l7.72-7.72 1.47 1.35L5.41 20z\"/>\n",
              "  </svg>\n",
              "      </button>\n",
              "      \n",
              "  <style>\n",
              "    .colab-df-container {\n",
              "      display:flex;\n",
              "      flex-wrap:wrap;\n",
              "      gap: 12px;\n",
              "    }\n",
              "\n",
              "    .colab-df-convert {\n",
              "      background-color: #E8F0FE;\n",
              "      border: none;\n",
              "      border-radius: 50%;\n",
              "      cursor: pointer;\n",
              "      display: none;\n",
              "      fill: #1967D2;\n",
              "      height: 32px;\n",
              "      padding: 0 0 0 0;\n",
              "      width: 32px;\n",
              "    }\n",
              "\n",
              "    .colab-df-convert:hover {\n",
              "      background-color: #E2EBFA;\n",
              "      box-shadow: 0px 1px 2px rgba(60, 64, 67, 0.3), 0px 1px 3px 1px rgba(60, 64, 67, 0.15);\n",
              "      fill: #174EA6;\n",
              "    }\n",
              "\n",
              "    [theme=dark] .colab-df-convert {\n",
              "      background-color: #3B4455;\n",
              "      fill: #D2E3FC;\n",
              "    }\n",
              "\n",
              "    [theme=dark] .colab-df-convert:hover {\n",
              "      background-color: #434B5C;\n",
              "      box-shadow: 0px 1px 3px 1px rgba(0, 0, 0, 0.15);\n",
              "      filter: drop-shadow(0px 1px 2px rgba(0, 0, 0, 0.3));\n",
              "      fill: #FFFFFF;\n",
              "    }\n",
              "  </style>\n",
              "\n",
              "      <script>\n",
              "        const buttonEl =\n",
              "          document.querySelector('#df-7f5ee9e7-282f-48c6-86f3-b0b179548ebf button.colab-df-convert');\n",
              "        buttonEl.style.display =\n",
              "          google.colab.kernel.accessAllowed ? 'block' : 'none';\n",
              "\n",
              "        async function convertToInteractive(key) {\n",
              "          const element = document.querySelector('#df-7f5ee9e7-282f-48c6-86f3-b0b179548ebf');\n",
              "          const dataTable =\n",
              "            await google.colab.kernel.invokeFunction('convertToInteractive',\n",
              "                                                     [key], {});\n",
              "          if (!dataTable) return;\n",
              "\n",
              "          const docLinkHtml = 'Like what you see? Visit the ' +\n",
              "            '<a target=\"_blank\" href=https://colab.research.google.com/notebooks/data_table.ipynb>data table notebook</a>'\n",
              "            + ' to learn more about interactive tables.';\n",
              "          element.innerHTML = '';\n",
              "          dataTable['output_type'] = 'display_data';\n",
              "          await google.colab.output.renderOutput(dataTable, element);\n",
              "          const docLink = document.createElement('div');\n",
              "          docLink.innerHTML = docLinkHtml;\n",
              "          element.appendChild(docLink);\n",
              "        }\n",
              "      </script>\n",
              "    </div>\n",
              "  </div>\n",
              "  "
            ]
          },
          "metadata": {},
          "execution_count": 110
        }
      ],
      "source": [
        "df_store.head()"
      ]
    },
    {
      "cell_type": "markdown",
      "metadata": {
        "id": "dYEeRzsqq-xH"
      },
      "source": [
        "- Order line: The different products in an order\n",
        "- Store data : Information about the restaurant/bar"
      ]
    },
    {
      "cell_type": "markdown",
      "metadata": {
        "id": "OYsG4N6Lq-xH"
      },
      "source": [
        "r) How many orders were placed in the 2nd arrondissement of Paris?"
      ]
    },
    {
      "cell_type": "code",
      "execution_count": null,
      "metadata": {
        "ExecuteTime": {
          "end_time": "2021-12-05T17:01:32.347122Z",
          "start_time": "2021-12-05T17:01:32.204026Z"
        },
        "id": "EQkdLlUMq-xH",
        "outputId": "fab9be10-f636-4670-eefe-42950893ddf5",
        "colab": {
          "base_uri": "https://localhost:8080/"
        }
      },
      "outputs": [
        {
          "output_type": "execute_result",
          "data": {
            "text/plain": [
              "59357"
            ]
          },
          "metadata": {},
          "execution_count": 111
        }
      ],
      "source": [
        "df_order_w_store_info = df_order.merge(df_store, on=\"id_store\")\n",
        "\n",
        "mask = df_order_w_store_info.dim_zipcode == \"75002\"\n",
        "df_order_w_store_info[mask].shape[0]"
      ]
    },
    {
      "cell_type": "markdown",
      "metadata": {
        "id": "ADA46_E1YZe_"
      },
      "source": [
        "s) Let's take the restaurant 4542. Its average ordering time was very short. \n",
        "\n",
        "Display the most ordered items in this restaurant. To do this, keep only the id_store and id_order columns from df_order and the id_order, id_order_line and dim_name columns from order_line.\n",
        "\n",
        "Note that the dim_name column exists in both df_order and df_line."
      ]
    },
    {
      "cell_type": "code",
      "execution_count": null,
      "metadata": {
        "colab": {
          "base_uri": "https://localhost:8080/"
        },
        "id": "ggr_eaelq-xI",
        "outputId": "e6194642-dfe8-4b85-e057-464fc78fdd1c"
      },
      "outputs": [
        {
          "output_type": "execute_result",
          "data": {
            "text/plain": [
              "dim_name\n",
              "divers                       41\n",
              "Chorizo « Ospital »          26\n",
              "Confiture cerises noires     12\n",
              "Txirula « Ospital »          12\n",
              "Saucisson « Ospital »        12\n",
              "Boudin « Parra »             10\n",
              "Lodève                        9\n",
              "Chorizo Cular « Ospital »     8\n",
              "Boudin Basque                 7\n",
              "foie gras                     6\n",
              "Confiture A.Rozés             6\n",
              "Piment d’Espelette            6\n",
              "Guindillas d’Ibarra           4\n",
              "Guindilla grand bocal         3\n",
              "boudin                        2\n",
              "Divers                        2\n",
              "dives                         1\n",
              "confiture                     1\n",
              "Boudin                        1\n",
              "Les 2 Vaches                  1\n",
              "Paté                          1\n",
              "Guindillas 700g               1\n",
              "Cassoulet au Canard           1\n",
              "piquillos                     1\n",
              "dtype: int64"
            ]
          },
          "metadata": {},
          "execution_count": 114
        }
      ],
      "source": [
        "df_all = df_order[[\"id_order\", \"id_store\"]].merge(df_line[[\"id_order\", \"id_order_line\", \"dim_name\", \"dim_category\"]], on=\"id_order\")\n",
        "\n",
        "df_all[df_all.id_store == 4542].groupby([\"dim_name\"]).size().sort_values(ascending=False).head(30)\n"
      ]
    },
    {
      "cell_type": "markdown",
      "metadata": {
        "id": "izDqbWd0fJRQ"
      },
      "source": [
        "Is it a fast food ? It's more a charcuterie"
      ]
    }
  ]
}